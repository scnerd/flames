{
 "cells": [
  {
   "cell_type": "code",
   "execution_count": 1,
   "metadata": {
    "collapsed": false
   },
   "outputs": [
    {
     "name": "stdout",
     "output_type": "stream",
     "text": [
      "Populating the interactive namespace from numpy and matplotlib\n"
     ]
    },
    {
     "name": "stderr",
     "output_type": "stream",
     "text": [
      "C:\\Users\\scnerd\\Anaconda3\\envs\\Anaconda34\\lib\\site-packages\\theano\\configdefaults.py:1695: UserWarning: Theano does not recognise this flag: Value\n",
      "  warnings.warn('Theano does not recognise this flag: {0}'.format(key))\n",
      "DEBUG: nvcc STDOUT mod.cu\n",
      "   Creating library C:/Users/scnerd/AppData/Local/Theano/compiledir_Windows-10-10.0.14931-Intel64_Family_6_Model_94_Stepping_3_GenuineIntel-3.4.5-64/tmpd5nmwlpb/m91973e5c136ea49268a916ff971b7377.lib and object C:/Users/scnerd/AppData/Local/Theano/compiledir_Windows-10-10.0.14931-Intel64_Family_6_Model_94_Stepping_3_GenuineIntel-3.4.5-64/tmpd5nmwlpb/m91973e5c136ea49268a916ff971b7377.exp\n",
      "\n",
      "Using gpu device 0: GeForce GTX 980 Ti (CNMeM is disabled, cuDNN 5105)\n",
      "C:\\Users\\scnerd\\Anaconda3\\envs\\Anaconda34\\lib\\site-packages\\theano\\sandbox\\cuda\\__init__.py:600: UserWarning: Your cuDNN version is more recent than the one Theano officially supports. If you see any problems, try updating Theano or downgrading cuDNN to version 5.\n",
      "  warnings.warn(warn)\n"
     ]
    }
   ],
   "source": [
    "%pylab inline\n",
    "\n",
    "from pycuda.compiler import SourceModule\n",
    "import theano\n",
    "import theano.tensor as T\n",
    "import theano.misc.pycuda_init\n",
    "import theano.sandbox.cuda as cuda"
   ]
  },
  {
   "cell_type": "code",
   "execution_count": 2,
   "metadata": {
    "collapsed": false
   },
   "outputs": [
    {
     "data": {
      "image/png": "[encoded data removed]",
      "text/plain": [
       "<matplotlib.figure.Figure at 0x1bf189b0>"
      ]
     },
     "metadata": {},
     "output_type": "display_data"
    },
    {
     "name": "stdout",
     "output_type": "stream",
     "text": [
      "(100, 100)\n"
     ]
    },
    {
     "data": {
      "image/png": "[encoded data removed]",
      "text/plain": [
       "<matplotlib.figure.Figure at 0x1c076fd0>"
      ]
     },
     "metadata": {},
     "output_type": "display_data"
    },
    {
     "name": "stdout",
     "output_type": "stream",
     "text": [
      "[(0.44489268246032487, -1.0238195104218921, 52, 44), (-0.63445406026407014, -0.59525222440089454, 46, 47), (-0.05667039785631206, 0.22720849672381557, 49, 51), (0.55740700726280656, -0.29489873580502451, 52, 48), (-0.76405767744696362, -2.1055720339142048, 46, 39), (1.8147122467578274, 1.193197598562161, 59, 55), (-2.8549248025287883, -0.82696396886776924, 35, 45), (-0.23544737835653579, 0.35264668938639226, 48, 51), (-0.81641094938033099, 0.47449542971188408, 45, 52), (0.63448804587321539, -0.38481666163722011, 53, 48)]\n"
     ]
    }
   ],
   "source": [
    "class PyCUDAHist2D(theano.Op):\n",
    "    __props__ = ('n', 'xres', 'yres', 'xmin', 'xptp', 'ymin', 'yptp', 'num_chans', 'length')\n",
    "\n",
    "    def __init__(self, n, width, height, xmin=-1.0, xmax=1.0, ymin=-1.0, ymax=1.0, num_chans=4, length=16):\n",
    "        self.n = n\n",
    "        self.xres = width\n",
    "        self.yres = height\n",
    "        self.xmin = xmin\n",
    "        self.xptp = xmax - xmin\n",
    "        self.ymin = ymin\n",
    "        self.yptp = ymax - ymin\n",
    "        self.num_chans = num_chans\n",
    "        self.length = length\n",
    "\n",
    "    def make_node(self, x, y, w):\n",
    "        x = cuda.basic_ops.gpu_contiguous(cuda.basic_ops.as_cuda_ndarray_variable(x))\n",
    "        y = cuda.basic_ops.gpu_contiguous(cuda.basic_ops.as_cuda_ndarray_variable(y))\n",
    "        w = cuda.basic_ops.gpu_contiguous(cuda.basic_ops.as_cuda_ndarray_variable(w))\n",
    "        out_t = cuda.CudaNdarrayType((False, False, False, False), dtype='float32')()\n",
    "        out_x = cuda.CudaNdarrayType((False,))()\n",
    "        out_y = cuda.CudaNdarrayType((False,))()\n",
    "        assert x.dtype == 'float32'\n",
    "        assert y.dtype == 'float32'\n",
    "        assert w.dtype == 'float32'\n",
    "        return theano.Apply(self, [x, y, w], [out_t, out_x, out_y])\n",
    "\n",
    "    # Based on\n",
    "    #https://devblogs.nvidia.com/parallelforall/gpu-pro-tip-fast-histograms-using-shared-atomics-maxwell/\n",
    "    def make_thunk(self, node, storage_map, _, _2):\n",
    "\n",
    "        # Creates a histogram in BLOCKS_X pieces, which then need to be added together\n",
    "        code = '''\n",
    "        __global__ void histogram2d(const float *in_x, const float *in_y, const float *in_w, float *out, float *out_binx, float *out_biny) {{\n",
    "            int start = (blockIdx.x * blockDim.x + threadIdx.x) * {length};\n",
    "\n",
    "            float *block_out = &out[{xres} * {yres} * {num_chans} * blockIdx.x];\n",
    "            //float *block_out = out;\n",
    "\n",
    "            for(int i = 0; i < {length}; i++) {{\n",
    "                float x = in_x[start + i];\n",
    "                float y = in_y[start + i];\n",
    "                int w_idx = (start + i) * {num_chans};\n",
    "\n",
    "                int xbin = (int) (((x - {xmin}) / {xptp}) * {xres});\n",
    "                int ybin = (int) (((y - {ymin}) / {yptp}) * {yres});\n",
    "\n",
    "                if (0 <= xbin && xbin < {xres} && 0 <= ybin && ybin < {yres}) {{\n",
    "                    out_binx[start + i] = (float)xbin;\n",
    "                    out_biny[start + i] = (float)ybin;\n",
    "                    for(int c = 0; c < {num_chans}; c++) {{\n",
    "                        atomicAdd(&block_out[(ybin * {xres} + xbin) * {num_chans} + c], in_w[w_idx + c]);\n",
    "                    }}\n",
    "                }}\n",
    "            }}\n",
    "        }}\n",
    "        '''.format(**{p: eval(\"self.{}\".format(p), {'self': self}) for p in self.__props__})\n",
    "        mod = SourceModule(code)\n",
    "        cuda_hist = mod.get_function('histogram2d')\n",
    "\n",
    "        inputs = [storage_map[v] for v in node.inputs]\n",
    "        outputs = [storage_map[v] for v in node.outputs]\n",
    "\n",
    "        _x, _y, _w = inputs\n",
    "        (_out,_outx,_outy) = outputs\n",
    "\n",
    "        def run_hist():\n",
    "            x = _x[0]\n",
    "            y = _y[0]\n",
    "            w = _w[0]\n",
    "            n = x.size\n",
    "            xres = self.xres\n",
    "            yres = self.yres\n",
    "            num_chans = self.num_chans\n",
    "            length = self.length\n",
    "            num_blocks = 2\n",
    "            threads_per_block = int(n / length / num_blocks)\n",
    "            if _out[0] is None or _out[0].shape != (num_blocks, yres, xres, num_chans):\n",
    "                _out[0] = cuda.CudaNdarray.zeros((num_blocks, yres, xres, num_chans))\n",
    "                _outx[0] = cuda.CudaNdarray.zeros((n,))\n",
    "                _outy[0] = cuda.CudaNdarray.zeros((n,))\n",
    "            cuda_hist(x, y, w, _out[0], _outx[0], _outy[0], block=(threads_per_block,1,1), grid=(num_blocks,1))\n",
    "\n",
    "        return run_hist#, zeros((num_blocks, yres, xres, num_chans), 'float32')\n",
    "    \n",
    "x = np.random.randn(10000)\n",
    "y = np.random.randn(10000)\n",
    "w = np.ones(10000)\n",
    "plt.figure()\n",
    "plt.hist2d(x, y, bins=[np.linspace(-10, 10, 100), np.linspace(-10, 10, 100)])\n",
    "plt.show(block=False)\n",
    "\n",
    "_x = T.fvector('x')\n",
    "_y = T.fvector('y')\n",
    "_w = T.fvector('w')\n",
    "hister = PyCUDAHist2D(10000, 100, 100, num_chans=1, xmin=-10, xmax=10, ymin=-10, ymax=10)\n",
    "f = theano.function([_x, _y, _w], hister(_x, _y, _w), allow_input_downcast=True)\n",
    "\n",
    "hist, x_assgn, y_assgn = f(x, y, w)\n",
    "hist = np.array(hist).sum(axis=0).sum(axis=-1)\n",
    "x_assgn = np.cast['int'](np.array(x_assgn))\n",
    "y_assgn = np.cast['int'](np.array(y_assgn))\n",
    "print(hist.shape)\n",
    "plt.figure()\n",
    "plt.imshow(hist)\n",
    "plt.show(block=False)\n",
    "print(list(zip(x, y, x_assgn, y_assgn))[:10])"
   ]
  },
  {
   "cell_type": "code",
   "execution_count": 47,
   "metadata": {
    "collapsed": false
   },
   "outputs": [
    {
     "data": {
      "image/png": "[encoded data removed]",
      "text/plain": [
       "<matplotlib.figure.Figure at 0x22c083c8>"
      ]
     },
     "metadata": {},
     "output_type": "display_data"
    },
    {
     "name": "stderr",
     "output_type": "stream",
     "text": [
      "C:\\Users\\scnerd\\Anaconda3\\envs\\Anaconda34\\lib\\site-packages\\ipykernel\\__main__.py:51: UserWarning: The CUDA compiler succeeded, but said the following:\n",
      "kernel.cu\r\n",
      "\n"
     ]
    },
    {
     "data": {
      "image/png": "[encoded data removed]",
      "text/plain": [
       "<matplotlib.figure.Figure at 0x24994b00>"
      ]
     },
     "metadata": {},
     "output_type": "display_data"
    },
    {
     "data": {
      "image/png": "[encoded data removed]",
      "text/plain": [
       "<matplotlib.figure.Figure at 0x22fd6048>"
      ]
     },
     "metadata": {},
     "output_type": "display_data"
    }
   ],
   "source": [
    "class PyCUDASlopeKernel(theano.Op):\n",
    "    __props__ = ('height', 'width')\n",
    "\n",
    "    def __init__(self, height, width):\n",
    "        self.height = height\n",
    "        self.width = width\n",
    "\n",
    "    def make_node(self, h):\n",
    "        h = cuda.basic_ops.gpu_contiguous(cuda.basic_ops.as_cuda_ndarray_variable(h))\n",
    "        out_dx = cuda.CudaNdarrayType((False, False), dtype='float32')()\n",
    "        out_dy = cuda.CudaNdarrayType((False, False), dtype='float32')()\n",
    "        assert h.dtype == 'float32'\n",
    "        return theano.Apply(self, [h], [out_dx, out_dy])\n",
    "\n",
    "    # Based on\n",
    "    #https://devblogs.nvidia.com/parallelforall/gpu-pro-tip-fast-histograms-using-shared-atomics-maxwell/\n",
    "    def make_thunk(self, node, storage_map, _, _2):\n",
    "\n",
    "        # Creates a histogram in BLOCKS_X pieces, which then need to be added together\n",
    "        code = '''\n",
    "        __device__ __inline__ float val_at(const float *hist, int x, int y) {{\n",
    "            x = min(max(x, 0), {width} - 1);\n",
    "            y = min(max(y, 0), {height} - 1);\n",
    "            return hist[y * {width} + x];\n",
    "        }}\n",
    "        \n",
    "        __device__ __inline__ float clipper(float mid, const float *hist, int x, int y) {{\n",
    "            // return min(mid, val_at(hist, x, y));\n",
    "            return val_at(hist, x, y);\n",
    "        }}\n",
    "\n",
    "        __global__ void slope_kernel(const float *histogram, float *dx, float *dy) {{\n",
    "            int x = (blockIdx.x * blockDim.x + threadIdx.x);\n",
    "            int y = (blockIdx.y * blockDim.y + threadIdx.y);\n",
    "            if (x < {width} && y < {height}) {{\n",
    "                float v4 = val_at(histogram, x, y);\n",
    "                float d0 = v4 - clipper(v4, histogram, x-1, y-1);\n",
    "                float d1 = v4 - clipper(v4, histogram, x,   y-1);\n",
    "                float d2 = v4 - clipper(v4, histogram, x+1, y-1);\n",
    "                float d3 = v4 - clipper(v4, histogram, x-1, y  );\n",
    "                float d5 = v4 - clipper(v4, histogram, x+1, y  );\n",
    "                float d6 = v4 - clipper(v4, histogram, x-1, y+1);\n",
    "                float d7 = v4 - clipper(v4, histogram, x,   y+1);\n",
    "                float d8 = v4 - clipper(v4, histogram, x+1, y+1);\n",
    "\n",
    "                dx[y * {width} + x] = {root2} * (d2 + d8 - d0 - d6) + d5 - d3;\n",
    "                dy[y * {width} + x] = {root2} * (d6 + d8 - d0 - d2) + d7 - d1;\n",
    "            }}\n",
    "        }}\n",
    "        '''.format(height=self.height, width=self.width, root2=np.sqrt(2))\n",
    "        mod = SourceModule(code)\n",
    "        cuda_kern = mod.get_function('slope_kernel')\n",
    "\n",
    "        inputs = [storage_map[v] for v in node.inputs]\n",
    "        outputs = [storage_map[v] for v in node.outputs]\n",
    "\n",
    "        (_h,) = inputs\n",
    "        (_outx,_outy) = outputs\n",
    "\n",
    "        threads = 16\n",
    "        num_blocks_h = int(np.ceil(self.height / threads))\n",
    "        num_blocks_w = int(np.ceil(self.width / threads))\n",
    "        def run_kern():\n",
    "            if _outx[0] is None or _outx[0].shape != (self.height, self.width):\n",
    "                _outx[0] = cuda.CudaNdarray.zeros((self.height, self.width))\n",
    "                _outy[0] = cuda.CudaNdarray.zeros((self.height, self.width))\n",
    "            cuda_kern(_h[0], _outx[0], _outy[0], block=(threads,threads,1), grid=(num_blocks_w,num_blocks_h))\n",
    "\n",
    "        return run_kern\n",
    "    \n",
    "x = np.arange(100)\n",
    "y = np.arange(100)\n",
    "x, y = np.meshgrid(x, y)\n",
    "g = np.exp(-( (x - 50)**2 / 50 + (y - 50)**2 / 50 ))\n",
    "plt.figure()\n",
    "plt.imshow(g)\n",
    "plt.show(block=False)\n",
    "\n",
    "_hist = T.fmatrix('hist')\n",
    "sloper = PyCUDASlopeKernel(100, 100)\n",
    "f = theano.function([_hist], sloper(_hist), allow_input_downcast=True)\n",
    "\n",
    "dx, dy = f(g)\n",
    "plt.figure()\n",
    "plt.imshow(dx)\n",
    "plt.show(block=False)\n",
    "plt.figure()\n",
    "plt.imshow(dy)\n",
    "plt.show(block=False)"
   ]
  },
  {
   "cell_type": "code",
   "execution_count": 79,
   "metadata": {
    "collapsed": false
   },
   "outputs": [
    {
     "name": "stderr",
     "output_type": "stream",
     "text": [
      "C:\\Users\\scnerd\\Anaconda3\\envs\\Anaconda34\\lib\\site-packages\\ipykernel\\__main__.py:13: VisibleDeprecationWarning: using a non-integer number instead of an integer will result in an error in the future\n",
      "C:\\Users\\scnerd\\Anaconda3\\envs\\Anaconda34\\lib\\site-packages\\ipykernel\\__main__.py:15: VisibleDeprecationWarning: using a non-integer number instead of an integer will result in an error in the future\n"
     ]
    }
   ],
   "source": [
    "cast = np.cast['float32']\n",
    "\n",
    "height = 480\n",
    "width = 640\n",
    "n = 10000000\n",
    "rebound = cast(0.9)\n",
    "time_step = cast(0.0001)\n",
    "time_step = theano.shared(time_step)\n",
    "hist_length = 2**16\n",
    "gravity = cast((0, 1000))\n",
    "\n",
    "sizes = np.ones(n)\n",
    "_reset_posx = lambda: np.clip(np.hstack([np.random.normal(loc=0.1, scale=0.01, size=n/2), np.random.normal(loc=0.7, scale=0.1, size=n/2)]), 0, 1)\n",
    "_reset_posy = lambda: np.clip(np.random.normal(loc=0.5, scale=0.1, size=n), 0, 1)\n",
    "_reset_velx = lambda: np.hstack([np.random.normal(loc=-10, scale=0.01, size=n/2), np.random.normal(loc=-10, scale=0.01, size=n/2)])\n",
    "_reset_vely = lambda: np.random.normal(loc=0, scale=0.01, size=n)\n",
    "cuda_cast = lambda v: cuda.CudaNdarray(cast(v))\n",
    "\n",
    "_posx = theano.shared(cuda_cast(_reset_posx()), name='posx')\n",
    "_posy = theano.shared(cuda_cast(_reset_posy()), name='posy')\n",
    "_velx = theano.shared(cuda_cast(_reset_velx()), name='velx')\n",
    "_vely = theano.shared(cuda_cast(_reset_vely()), name='vely')\n",
    "_size = theano.shared(cuda_cast(sizes), name='sizes')\n",
    "\n",
    "_mass = _size ** 2 # we're working in 2D, so this is close enough\n",
    "\n",
    "hister = PyCUDAHist2D(n, width, height, num_chans=1, xmin=0, xmax=1, ymin=0, ymax=1, length=hist_length)\n",
    "sloper = PyCUDASlopeKernel(height, width)\n",
    "\n",
    "hist, x_assgns, y_assgns = hister(_posx, _posy, _size)\n",
    "x_assgns = T.cast(x_assgns, 'int32')\n",
    "y_assgns = T.cast(y_assgns, 'int32')\n",
    "\n",
    "dx, dy = sloper(hist**2)\n",
    "\n",
    "dx = dx[y_assgns, x_assgns]\n",
    "dy = dy[y_assgns, x_assgns]\n",
    "out_velx = _velx + time_step * dx / _mass + time_step * gravity[0]\n",
    "out_vely = _vely + time_step * dy / _mass + time_step * gravity[1]\n",
    "out_posx = _posx + time_step * _velx\n",
    "out_posy = _posy + time_step * _vely\n",
    "\n",
    "off_left = T.lt(out_posx, 0)\n",
    "off_right = T.gt(out_posx, 1)\n",
    "off_top = T.lt(out_posy, 0)\n",
    "off_bott = T.gt(out_posy, 1)\n",
    "rebound_x = off_left | off_right\n",
    "rebound_y = off_top | off_bott\n",
    "\n",
    "out_velx = T.switch(rebound_x, cast(rebound) * -out_velx, out_velx)\n",
    "out_vely = T.switch(rebound_y, cast(rebound) * -out_vely, out_vely)\n",
    "out_posx = T.switch(off_right, cast(1)-out_posx, T.switch(off_left, -out_posx, out_posx))\n",
    "out_posy = T.switch(off_bott, cast(1)-out_posy, T.switch(off_top, -out_posy, out_posy))\n",
    "\n",
    "step = theano.function([], [],\n",
    "                       updates=[(_posx, out_posx), (_posy, out_posy),\n",
    "                                (_velx, out_velx), (_vely, out_vely)],\n",
    "                       allow_input_downcast=True)\n",
    "render = theano.function([], [T.log(1+hist.sum(axis=0).sum(axis=-1))], allow_input_downcast=True)\n",
    "reset = theano.function([], [], updates=[\n",
    "        (_posx, cuda_cast(_reset_posx())),\n",
    "        (_posy, cuda_cast(_reset_posy())),\n",
    "        (_velx, cuda_cast(_reset_velx())),\n",
    "        (_vely, cuda_cast(_reset_vely())),\n",
    "    ])"
   ]
  },
  {
   "cell_type": "code",
   "execution_count": null,
   "metadata": {
    "collapsed": false,
    "scrolled": false
   },
   "outputs": [
    {
     "name": "stderr",
     "output_type": "stream",
     "text": [
      "C:\\Users\\scnerd\\Anaconda3\\envs\\Anaconda34\\lib\\site-packages\\ipykernel\\__main__.py:1: VisibleDeprecationWarning: using a non-integer number instead of an integer will result in an error in the future\n",
      "  if __name__ == '__main__':\n",
      "  6%|█████████████▎                                                                                                                                                                                                                  | 594/10000 [07:45<2:09:41,  1.21it/s]"
     ]
    }
   ],
   "source": [
    "lump = np.random.choice(np.arange(n), 0.1 * n, replace=False)\n",
    "\n",
    "reset()\n",
    "\n",
    "from tqdm import tqdm\n",
    "print_every_iter = False\n",
    "renders = []\n",
    "for i in tqdm(range(10000)):\n",
    "#     if i > 0:\n",
    "#         if not i % 100:\n",
    "#             time_step.set_value(cast(0.001))\n",
    "#         elif not i % 10:\n",
    "#             time_step.set_value(cast(0.0001))\n",
    "    step()\n",
    "    r, = render()\n",
    "    renders.append(np.array(r))"
   ]
  },
  {
   "cell_type": "code",
   "execution_count": 31,
   "metadata": {
    "collapsed": false
   },
   "outputs": [],
   "source": [
    "renders = [np.array(r[0]).sum(axis=0).sum(axis=-1) for r in __renders]"
   ]
  },
  {
   "cell_type": "code",
   "execution_count": null,
   "metadata": {
    "collapsed": false
   },
   "outputs": [],
   "source": [
    "for i, rendered in enumerate(tqdm(renders)):\n",
    "    plt.imsave('data/wave_render_5/frame_%d.png' % i, rendered, cmap=plt.cm.inferno)"
   ]
  },
  {
   "cell_type": "code",
   "execution_count": null,
   "metadata": {
    "collapsed": true
   },
   "outputs": [],
   "source": []
  }
 ],
 "metadata": {
  "kernelspec": {
   "display_name": "Python 3",
   "language": "python",
   "name": "python3"
  },
  "language_info": {
   "codemirror_mode": {
    "name": "ipython",
    "version": 3
   },
   "file_extension": ".py",
   "mimetype": "text/x-python",
   "name": "python",
   "nbconvert_exporter": "python",
   "pygments_lexer": "ipython3",
   "version": "3.4.5"
  }
 },
 "nbformat": 4,
 "nbformat_minor": 1
}
