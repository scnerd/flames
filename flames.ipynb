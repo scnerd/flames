{
 "cells": [
  {
   "cell_type": "code",
   "execution_count": null,
   "metadata": {
    "collapsed": false
   },
   "outputs": [],
   "source": [
    "%pylab inline\n",
    "%load_ext autoreload\n",
    "%autoreload 2\n",
    "from variations import *\n",
    "from transforms import *\n",
    "from flame_io import *\n",
    "from animation import *\n",
    "from chaos_game import *\n",
    "from music import *"
   ]
  },
  {
   "cell_type": "markdown",
   "metadata": {},
   "source": [
    "---------------------------------"
   ]
  },
  {
   "cell_type": "code",
   "execution_count": null,
   "metadata": {
    "collapsed": true
   },
   "outputs": [],
   "source": [
    "# Run this to see how the variations behave\n",
    "for vari in all_variations:\n",
    "    vari().visualize()"
   ]
  },
  {
   "cell_type": "code",
   "execution_count": null,
   "metadata": {
    "collapsed": false
   },
   "outputs": [],
   "source": [
    "# Sierpinski's Gasket (https://en.wikipedia.org/wiki/Sierpinski_triangle)\n",
    "# This is a common fractal that can be rendered, among other ways, using the chaos game\n",
    "# I put it here to demonstrate how to do something obvious and known, and also to test the renderer\n",
    "# NOTE: I don't think the Mandelbrot set can be rendered this way :'(\n",
    "\n",
    "@variation\n",
    "def gasket0(x, y, *crap):\n",
    "    return x/2, y/2\n",
    "\n",
    "@variation\n",
    "def gasket1(x, y, *crap):\n",
    "    return (x+1)/2, y/2\n",
    "\n",
    "@variation\n",
    "def gasket2(x, y, *crap):\n",
    "    return x/2, (y+1)/2\n",
    "gasket0 = gasket0(1, 0, 0, 0, 1, 0)\n",
    "gasket1 = gasket1(1, 0, 0, 0, 1, 0)\n",
    "gasket2 = gasket2(1, 0, 0, 0, 1, 0)\n",
    "\n",
    "def sierpinski_gasket(**display_args):\n",
    "    t = [gasket0, gasket1, gasket2]\n",
    "    c, img, _ = chaos_game(t, **display_args)\n",
    "    display_flame(img, renderer=None)\n",
    "    save_flame(img, 'sierpinski_gasket', renderer=None, transes=t)\n",
    "\n",
    "sierpinski_gasket(iters=30, n=100000, xmin=0, xmax=1, ymin=0, ymax=1, xres=512, yres=512)"
   ]
  },
  {
   "cell_type": "code",
   "execution_count": null,
   "metadata": {
    "collapsed": false
   },
   "outputs": [],
   "source": [
    "# FINALLY, we can render some fractal flame art\n",
    "# This cell sets up a new flame configuration and renders it\n",
    "\n",
    "flame_settings = {\n",
    "    'n': 1000000,\n",
    "    'n_runs': 1,\n",
    "    'iters': 50,\n",
    "    'xmin': -1.166,\n",
    "    'xmax': 1.166,\n",
    "    'ymin': -1,\n",
    "    'ymax': 1,\n",
    "    'and_display': 100,\n",
    "    'xres': 1440,\n",
    "    'yres': 1080,\n",
    "    'supersample': 1,\n",
    "    'vibrancy': 1,\n",
    "    'saturation': None,\n",
    "}\n",
    "transes = random_transform()\n",
    "cond, img, _ = chaos_game(transes, **flame_settings)\n",
    "display_flame(img, renderer=None, **flame_settings)"
   ]
  },
  {
   "cell_type": "code",
   "execution_count": null,
   "metadata": {
    "collapsed": true
   },
   "outputs": [],
   "source": [
    "print(cond.max())"
   ]
  },
  {
   "cell_type": "code",
   "execution_count": null,
   "metadata": {
    "collapsed": true
   },
   "outputs": [],
   "source": [
    "# This cell demonstrates how to pick up where you left off and continue rendering \n",
    "# (creates new batch of points, but that doesn't really matter)\n",
    "# (Make sure not to change any render parameters, only display parameters or run configurations)\n",
    "flame_settings['resume'] = cond\n",
    "flame_settings['n'] = 1000000\n",
    "flame_settings['iters'] = 200\n",
    "\n",
    "cond = chaos_game(transes, **flame_settings)"
   ]
  },
  {
   "cell_type": "code",
   "execution_count": null,
   "metadata": {
    "collapsed": true
   },
   "outputs": [],
   "source": []
  },
  {
   "cell_type": "code",
   "execution_count": null,
   "metadata": {
    "collapsed": true
   },
   "outputs": [],
   "source": [
    "# This cell is for playing with display parameters without changing the render\n",
    "from time import time\n",
    "s1 = time()\n",
    "display_flame(cond, renderer=theano_renderer, **flame_settings)\n",
    "print(time() - s1)\n",
    "s1 = time()\n",
    "display_flame(cond, **flame_settings)\n",
    "print(time() - s1)"
   ]
  },
  {
   "cell_type": "code",
   "execution_count": null,
   "metadata": {
    "collapsed": true
   },
   "outputs": [],
   "source": [
    "import theano\n",
    "theano.config.device"
   ]
  },
  {
   "cell_type": "code",
   "execution_count": null,
   "metadata": {
    "collapsed": true
   },
   "outputs": [],
   "source": [
    "save_flame(cond, 'flame101', transes=transes, **flame_settings)"
   ]
  },
  {
   "cell_type": "code",
   "execution_count": null,
   "metadata": {
    "collapsed": false
   },
   "outputs": [],
   "source": [
    "# Save the flame to an image file (saves both to png and jpg)\n",
    "flame_settings = {\n",
    "    'n': 1000000,\n",
    "    'n_runs': 1,\n",
    "    'iters': 500,\n",
    "    'xmin': -1.166,\n",
    "    'xmax': 1.166,\n",
    "    'ymin': -1,\n",
    "    'ymax': 1,\n",
    "    'and_display': 100,\n",
    "    'xres': 1440*2,\n",
    "    'yres': 1080*2,\n",
    "    'supersample': 2,\n",
    "    'vibrancy': 1,\n",
    "    'saturation': 3,\n",
    "    'renderer': theano_renderer,\n",
    "}\n",
    "\n",
    "for i in range(52, 100):\n",
    "    transes = random_transform()\n",
    "    cond = chaos_game(transes, **flame_settings)\n",
    "    save_flame(cond, 'flame%d' % i, transes=transes, vibrancy=1.0, saturation=3.0)"
   ]
  },
  {
   "cell_type": "code",
   "execution_count": null,
   "metadata": {
    "collapsed": true
   },
   "outputs": [],
   "source": [
    "'''\n",
    "TODO:\n",
    "Performance optimization (& parallelization)\n",
    "Implement density estimation\n",
    "Animate\n",
    "'''"
   ]
  },
  {
   "cell_type": "code",
   "execution_count": null,
   "metadata": {
    "collapsed": false
   },
   "outputs": [],
   "source": [
    "flame_settings = {\n",
    "    'n': 1000000,\n",
    "    'n_runs': 1,\n",
    "    'iters': 50,\n",
    "    'xmin': -1.166,\n",
    "    'xmax': 1.166,\n",
    "    'ymin': -1,\n",
    "    'ymax': 1,\n",
    "    'and_display': False,\n",
    "    'xres': 1440,\n",
    "    'yres': 1080,\n",
    "    'supersample': 1,\n",
    "    'vibrancy': 1,\n",
    "    'saturation': None,\n",
    "}\n",
    "theano.config.optimizer = 'fast_run'\n",
    "\n",
    "f_resume = None\n",
    "odd_transform = random_transform()\n",
    "for t in odd_transform:\n",
    "    t.variations = [AnimatedVariation(var) for var in t.variations]\n",
    "    for var in t.variations:\n",
    "        var.step()\n",
    "for i in range(600):\n",
    "    cond, img, f_resume = chaos_game(odd_transform, reuse_func=f_resume, **flame_settings)\n",
    "    display_flame(img, renderer=None, **flame_settings)\n",
    "    save_flame(img, 'animated_flame_%d' % i, renderer=None, **flame_settings)\n",
    "    for trans in odd_transform:\n",
    "        for var in trans.variations:\n",
    "            var.step()\n",
    "    del cond"
   ]
  },
  {
   "cell_type": "code",
   "execution_count": null,
   "metadata": {
    "collapsed": false
   },
   "outputs": [],
   "source": [
    "for music_anim in range(4, 11):\n",
    "    flame_settings = {\n",
    "        'n': 1000000,\n",
    "        'n_runs': 1,\n",
    "        'iters': 100,\n",
    "        'xmin': -1.166,\n",
    "        'xmax': 1.166,\n",
    "        'ymin': -1,\n",
    "        'ymax': 1,\n",
    "        'and_display': False,\n",
    "        'xres': 1440,\n",
    "        'yres': 1080,\n",
    "        'supersample': 2,\n",
    "        'vibrancy': 1,\n",
    "        'saturation': None,\n",
    "    }\n",
    "\n",
    "    f_resume = None\n",
    "    odd_transform = random_transform()\n",
    "    music = Music(framerate=15)\n",
    "    #music.visualize()\n",
    "\n",
    "    for t in odd_transform:\n",
    "        t.variations = [MusicalVariation(music, var) for var in t.variations]\n",
    "        for var in t.variations:\n",
    "            var.step()\n",
    "    for i in range(len(music)):\n",
    "        cond, img, f_resume = chaos_game(odd_transform, reuse_func=f_resume, **flame_settings)\n",
    "        #display_flame(img, renderer=None, **flame_settings)\n",
    "        save_flame(img, 'music_animation%d/animated_flame_%d' % (music_anim, i), renderer=None, **flame_settings)\n",
    "        for trans in odd_transform:\n",
    "            for var in trans.variations:\n",
    "                var.step()\n",
    "        del cond"
   ]
  },
  {
   "cell_type": "code",
   "execution_count": null,
   "metadata": {
    "collapsed": false,
    "scrolled": false
   },
   "outputs": [],
   "source": [
    "flame_settings = {\n",
    "    'n': 1000000,\n",
    "    'n_runs': 1,\n",
    "    'iters': 50,\n",
    "    'xmin': -1.166,\n",
    "    'xmax': 1.166,\n",
    "    'ymin': -1,\n",
    "    'ymax': 1,\n",
    "    'and_display': False,\n",
    "    'xres': 1440,\n",
    "    'yres': 1080,\n",
    "    'supersample': 2,\n",
    "    'vibrancy': 1,\n",
    "    'saturation': None,\n",
    "}\n",
    "theano.config.optimizer = 'fast_run'\n",
    "\n",
    "f_resume = None\n",
    "odd_transform = random_transform()\n",
    "music = Music(framerate=15)\n",
    "#music.visualize()\n",
    "\n",
    "for t in odd_transform:\n",
    "    t.variations = [MusicalVariation(music, var) for var in t.variations]\n",
    "    for var in t.variations:\n",
    "        var.step()\n",
    "for i in range(len(music)):\n",
    "    cond, img, f_resume = chaos_game(odd_transform, reuse_func=f_resume, **flame_settings)\n",
    "    display_flame(img, renderer=None, **flame_settings)\n",
    "    save_flame(img, 'animated_flame_%d' % i, renderer=None, **flame_settings)\n",
    "    for trans in odd_transform:\n",
    "        for var in trans.variations:\n",
    "            var.step()\n",
    "    del cond"
   ]
  },
  {
   "cell_type": "code",
   "execution_count": null,
   "metadata": {
    "collapsed": false
   },
   "outputs": [],
   "source": [
    "def pixel_kde_smoothing(img):\n",
    "    yres, xres, num_chans = img.shape\n",
    "    out_image = np.zeros_like(img)\n",
    "    xidxs = np.arange(-xres, xres+1).reshape((1, 2*xres + 1))\n",
    "    yidxs = np.arange(-yres, yres+1).reshape((2*yres + 1, 1))\n",
    "    \n",
    "    log_alpha = np.log(img[:,:,3])\n",
    "    mags = np.cast['int'](np.ceil(log_alpha))\n",
    "    max_mag = np.max(mags)\n",
    "    \n",
    "    full_gaussian = {sigma: \n",
    "        np.exp(-((xidxs - xres)**2 / (2 * sigma**2) + (yidxs - yres)**2 / (2 * sigma**2)))\n",
    "        for sigma in range(1, max_mag + 1)\n",
    "    }\n",
    "    \n",
    "    def gaussian(x, y, mag):\n",
    "        return full_gaussian[mag][yres-y:2*yres-y, xres-x:2*xres-x]\n",
    "    \n",
    "    print(gaussian(0, 0, 1).shape)\n",
    "        \n",
    "    for y in tqdm(range(yres)):\n",
    "        for x in range(xres):\n",
    "            alpha = mags[y, x]\n",
    "            if alpha > 1:\n",
    "                g = gaussian(x, y, alpha)\n",
    "                out_image += alpha * np.expand_dims(g, 2) * img[y, x, :].reshape((1, 1, num_chans))\n",
    "    return out_image\n",
    "        \n",
    "print(img.shape)\n",
    "new_img = pixel_kde_smoothing(img.copy())\n",
    "display_flame(new_img, renderer=None, **flame_settings)"
   ]
  },
  {
   "cell_type": "code",
   "execution_count": null,
   "metadata": {
    "collapsed": false,
    "scrolled": false
   },
   "outputs": [],
   "source": [
    "import pycuda.autoinit\n",
    "import pycuda.driver as drv\n",
    "from pycuda.compiler import SourceModule\n",
    "import theano.misc.pycuda_init\n",
    "import theano.sandbox.cuda as cuda\n",
    "import theano.tensor as T\n",
    "\n",
    "class PyCUDAKDE2DImg(theano.Op):\n",
    "    __props__ = ()\n",
    "    \n",
    "    def __init__(self, smoothness=1, window_size=7, **condense_args):\n",
    "        self.smoothness = smoothness\n",
    "        self.window_size = window_size\n",
    "        get = make_get(condense_args)\n",
    "        self.xres = get('xres') * get('supersample')\n",
    "        self.yres = get('yres') * get('supersample')\n",
    "        self.num_chans = get('num_chans')\n",
    "        print(self.xres)\n",
    "    \n",
    "    def make_node(self, inp):\n",
    "        #max_alpha = cuda.basic_ops.gpu_contiguous(cuda.basic_ops.as_cuda_ndarray_variable(T.max(inp[:,:,3])))\n",
    "        inp = cuda.basic_ops.gpu_contiguous(cuda.basic_ops.as_cuda_ndarray_variable(inp))\n",
    "        out_t = cuda.CudaNdarrayType((False, False, False), dtype='float32')()\n",
    "        assert inp.dtype == 'float32'\n",
    "        return theano.Apply(self, [inp], [out_t])\n",
    "        \n",
    "    def make_thunk(self, node, storage_map, _, _2):\n",
    "\n",
    "        # Use a std dev of 1/(alpha/max_alpha/smoothness)\n",
    "        # 99.7% of the information is in the first three std dev's, so we'll stop there\n",
    "        code = '''\n",
    "        __device__ bool valid(int x, int y) {{\n",
    "            return x >= 0 && x < {xres} && y >= 0 && y < {yres};\n",
    "        }}\n",
    "        \n",
    "        __device__ void add(float *out, int x, int y, float r, float g, float b, float a, float gauss) {{\n",
    "            atomicAdd(&out[(y * {xres} + x) * {num_chans} + 0], r * gauss);\n",
    "            atomicAdd(&out[(y * {xres} + x) * {num_chans} + 1], g * gauss);\n",
    "            atomicAdd(&out[(y * {xres} + x) * {num_chans} + 2], b * gauss);\n",
    "            atomicAdd(&out[(y * {xres} + x) * {num_chans} + 3], a * gauss);\n",
    "        }}\n",
    "        \n",
    "        __global__ void kde2d(const float *input, const float max_alpha, const unsigned int offset_x, const unsigned int offset_y, float *out) {{\n",
    "            register int _x = blockIdx.x + offset_x;\n",
    "            register int _y = blockIdx.y + offset_y;\n",
    "            \n",
    "            register int dx = threadIdx.x;\n",
    "            register int dy = threadIdx.y;\n",
    "            \n",
    "            register float r = input[(_y * {xres} + _x) * {num_chans} + 0];\n",
    "            register float g = input[(_y * {xres} + _x) * {num_chans} + 1];\n",
    "            register float b = input[(_y * {xres} + _x) * {num_chans} + 2];\n",
    "            register float a = input[(_y * {xres} + _x) * {num_chans} + 3];\n",
    "            \n",
    "            if(a < __logf(max_alpha))\n",
    "                return;\n",
    "            \n",
    "            float sigma = 0.3f * a / max_alpha * (float){smoothness};\n",
    "            \n",
    "            float gaussian = __expf((dx)*(dx)/(float)(2*sigma*sigma) + (dy)*(dy)/(float)(2*sigma*sigma));\n",
    "            \n",
    "            int xp = _x + dx;\n",
    "            int yp = _y + dy;\n",
    "            int xm = _x - dx;\n",
    "            int ym = _y - dy;\n",
    "            \n",
    "            if(valid(xp, yp))\n",
    "                add(out, xp, yp, r, g, b, a, gaussian);\n",
    "            if(dx != 0 || dy != 0) {{\n",
    "                if(valid(xm, yp))\n",
    "                    add(out, xm, yp, r, g, b, a, gaussian);\n",
    "                if(valid(xp, ym))\n",
    "                    add(out, xp, ym, r, g, b, a, gaussian);\n",
    "                if(valid(xm, ym))\n",
    "                    add(out, xm, ym, r, g, b, a, gaussian);\n",
    "            }}\n",
    "            out[(_y * {xres} + _x) * {num_chans}] = sigma;\n",
    "        }}\n",
    "        '''.format(**{\n",
    "                'window_size': self.window_size,\n",
    "                'smoothness': self.smoothness,\n",
    "                'xres': self.xres,\n",
    "                'yres': self.yres,\n",
    "                'num_chans': self.num_chans,\n",
    "            })\n",
    "        #print(code)\n",
    "        #comp = pycuda.compiler.compile(code)\n",
    "        #print(comp)\n",
    "        #mod = pycuda.driver.module_from_buffer(comp)\n",
    "        mod = SourceModule(code)\n",
    "        cuda_func = mod.get_function('kde2d')\n",
    "        #cuda_func.prepare('PFIIP')\n",
    "        \n",
    "        inputs = [storage_map[v] for v in node.inputs]\n",
    "        outputs = [storage_map[v] for v in node.outputs]\n",
    "        \n",
    "        (_inp,) = inputs\n",
    "        (_out,) = outputs\n",
    "\n",
    "        def run_kde():\n",
    "            stream = drv.Stream()\n",
    "            \n",
    "            if _out[0] is None or _out[0].shape != _inp[0].shape:\n",
    "                _out[0] = cuda.CudaNdarray.zeros(_inp[0].shape)\n",
    "            \n",
    "            block_size = (self.window_size+1, self.window_size+1, 1)\n",
    "            stepsize = 32\n",
    "            height, width, _ = _inp[0].shape\n",
    "            __max_alpha = np.asarray(_inp[0])[:,:,3].max()\n",
    "            print(__max_alpha)\n",
    "            for offset_x in range(0, stepsize*20+1, stepsize):\n",
    "                for offset_y in range(0, stepsize*20+1, stepsize):\n",
    "                    cuda_func(_inp[0], __max_alpha, np.uint32(offset_x), np.uint32(offset_y), _out[0], block=block_size, grid=(stepsize, stepsize))\n",
    "            #        grid_size = (min(stepsize, width-offset_x), min(stepsize, height-offset_y))\n",
    "            #        cuda_func.prepared_async_call(grid_size, block_size, stream, drv.In(_inp[0]), _max_alpha[0], np.uint32(offset_x), np.uint32(offset_y), drv.Out(_out[0]))\n",
    "            #stream.synchronize()\n",
    "            #cuda_func(_inp[0], _max_alpha[0], _out[0], block=block_size, grid=grid_size)\n",
    "            \n",
    "        return run_kde\n",
    "    \n",
    "from time import time\n",
    "tmp_img = img.copy()\n",
    "t_img = T.ftensor3()\n",
    "kde_func = PyCUDAKDE2DImg(smoothness=1, window_size=7, **flame_settings)\n",
    "#kde_func.make_thunk(None, None, None, None)\n",
    "filtered = kde_func(t_img)\n",
    "runner = theano.function([t_img], filtered, allow_input_downcast=True)\n",
    "s1 = time()\n",
    "new_img = np.asarray(runner(tmp_img))\n",
    "s2 = time()\n",
    "print(s2 - s1)\n",
    "print(new_img)\n",
    "print(np.where(np.isnan(new_img)))\n",
    "print(np.where(np.isinf(new_img)))\n",
    "print(np.where(np.isneginf(new_img)))\n",
    "\n",
    "display_flame(tmp_img, renderer=None, **flame_settings)\n",
    "display_flame(new_img, renderer=None, **flame_settings)"
   ]
  },
  {
   "cell_type": "code",
   "execution_count": null,
   "metadata": {
    "collapsed": true
   },
   "outputs": [],
   "source": []
  },
  {
   "cell_type": "code",
   "execution_count": null,
   "metadata": {
    "collapsed": true
   },
   "outputs": [],
   "source": [
    "'''TODO:\n",
    "Make music visualization work better...\n",
    "    - Try finding the peak frequency in each range (argmax), and use that as a possible value\n",
    "'''"
   ]
  }
 ],
 "metadata": {
  "kernelspec": {
   "display_name": "Python 3",
   "language": "python",
   "name": "python3"
  },
  "language_info": {
   "codemirror_mode": {
    "name": "ipython",
    "version": 3
   },
   "file_extension": ".py",
   "mimetype": "text/x-python",
   "name": "python",
   "nbconvert_exporter": "python",
   "pygments_lexer": "ipython3",
   "version": "3.4.5"
  }
 },
 "nbformat": 4,
 "nbformat_minor": 0
}
